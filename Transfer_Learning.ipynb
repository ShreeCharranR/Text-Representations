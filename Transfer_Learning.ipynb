{
 "cells": [
  {
   "cell_type": "markdown",
   "metadata": {
    "colab_type": "text",
    "id": "QVemECCPfYg0"
   },
   "source": [
    "#  Transfer Learning (Pre-trained Embeddings)\n",
    "\n"
   ]
  },
  {
   "cell_type": "markdown",
   "metadata": {
    "colab_type": "text",
    "id": "hRDuVi6fgsSM"
   },
   "source": [
    "# Sample corpus"
   ]
  },
  {
   "cell_type": "code",
   "execution_count": 1,
   "metadata": {
    "colab": {},
    "colab_type": "code",
    "id": "uwM52iwoJTtN"
   },
   "outputs": [],
   "source": [
    "sentences = ['He is sitting near the river bank',\n",
    "             'He is sitting in the bank to get some cash',\n",
    "             'The elephant is sitting near the bank of the river',\n",
    "             'The bank is closed so he cannot get any money today']"
   ]
  },
  {
   "cell_type": "markdown",
   "metadata": {
    "colab_type": "text",
    "id": "M78a7Gwfgv9V"
   },
   "source": [
    "# Get Pre-trained Google Word2Vec Embeddings\n",
    "\n",
    " \n",
    "\n",
    "Source: https://code.google.com/archive/p/word2vec/"
   ]
  },
  {
   "cell_type": "code",
   "execution_count": null,
   "metadata": {},
   "outputs": [],
   "source": [
    "!wget https://s3.amazonaws.com/dl4j-distribution/GoogleNews-vectors-negative300.bin.gz"
   ]
  },
  {
   "cell_type": "code",
   "execution_count": 6,
   "metadata": {
    "colab": {},
    "colab_type": "code",
    "id": "3beGTNCkKeQM"
   },
   "outputs": [],
   "source": [
    "!gunzip GoogleNews-vectors-negative300.bin"
   ]
  },
  {
   "cell_type": "code",
   "execution_count": 8,
   "metadata": {
    "colab": {
     "base_uri": "https://localhost:8080/",
     "height": 68
    },
    "colab_type": "code",
    "id": "WCvh9TgtLsI8",
    "outputId": "55c53c5a-f484-483d-e6e5-2db2d5f3627c"
   },
   "outputs": [
    {
     "name": "stdout",
     "output_type": "stream",
     "text": [
      "total 3645MB\n",
      "-rw-r--r-- 1 root root 3645MB Mar  5  2015 GoogleNews-vectors-negative300.bin\n",
      "drwxr-xr-x 1 root root    1MB Sep 16 16:29 sample_data\n"
     ]
    }
   ],
   "source": [
    "!ls -l --block-size=MB"
   ]
  },
  {
   "cell_type": "markdown",
   "metadata": {
    "colab_type": "text",
    "id": "AN6nWR_qhGVC"
   },
   "source": [
    "# Load Word2Vec Embeddings in a Word2Vec Model"
   ]
  },
  {
   "cell_type": "code",
   "execution_count": 81,
   "metadata": {
    "colab": {
     "base_uri": "https://localhost:8080/",
     "height": 71
    },
    "colab_type": "code",
    "id": "kglDziMrL4Gb",
    "outputId": "d10d5c86-fdb8-43ba-def6-81c6de8d189b"
   },
   "outputs": [
    {
     "name": "stderr",
     "output_type": "stream",
     "text": [
      "/usr/local/lib/python3.6/dist-packages/smart_open/smart_open_lib.py:254: UserWarning: This function is deprecated, use smart_open.open instead. See the migration notes for details: https://github.com/RaRe-Technologies/smart_open/blob/master/README.rst#migrating-to-the-new-open-function\n",
      "  'See the migration notes for details: %s' % _MIGRATION_NOTES_URL\n"
     ]
    }
   ],
   "source": [
    "from gensim.models import KeyedVectors\n",
    "\n",
    "w2v_model = KeyedVectors.load_word2vec_format('GoogleNews-vectors-negative300.bin', binary=True)"
   ]
  },
  {
   "cell_type": "code",
   "execution_count": 82,
   "metadata": {
    "colab": {
     "base_uri": "https://localhost:8080/",
     "height": 34
    },
    "colab_type": "code",
    "id": "lihSZ46JMESj",
    "outputId": "3b72df81-314f-472a-df9b-71953f95c6de"
   },
   "outputs": [
    {
     "data": {
      "text/plain": [
       "<gensim.models.keyedvectors.Word2VecKeyedVectors at 0x7faf132ae438>"
      ]
     },
     "execution_count": 82,
     "metadata": {
      "tags": []
     },
     "output_type": "execute_result"
    }
   ],
   "source": [
    "w2v_model"
   ]
  },
  {
   "cell_type": "markdown",
   "metadata": {
    "colab_type": "text",
    "id": "hT7tLxt_hJ_V"
   },
   "source": [
    "# Sample embedding from already trained Word2Vec Model"
   ]
  },
  {
   "cell_type": "code",
   "execution_count": 83,
   "metadata": {
    "colab": {
     "base_uri": "https://localhost:8080/",
     "height": 1000
    },
    "colab_type": "code",
    "id": "nbm_VbbyMOOg",
    "outputId": "2b6aad87-ddcd-4115-d9ad-5677067f0282"
   },
   "outputs": [
    {
     "data": {
      "text/plain": [
       "array([ 2.19726562e-02,  1.34765625e-01, -5.78613281e-02,  5.56640625e-02,\n",
       "        9.91210938e-02, -1.40625000e-01, -3.03649902e-03,  1.87988281e-02,\n",
       "        2.53906250e-01, -4.88281250e-02, -1.63574219e-02, -1.33666992e-02,\n",
       "        6.25000000e-02,  6.07910156e-02, -9.22851562e-02,  3.12500000e-01,\n",
       "        1.38282776e-04, -1.34765625e-01, -4.32128906e-02,  1.16699219e-01,\n",
       "        2.22656250e-01, -9.81445312e-02,  4.51660156e-02, -2.23388672e-02,\n",
       "        5.17578125e-02, -2.41210938e-01, -1.11328125e-01,  9.71679688e-02,\n",
       "        2.28515625e-01, -1.08642578e-02, -4.02832031e-02, -1.83105469e-02,\n",
       "        3.10546875e-01,  3.88183594e-02, -2.85156250e-01, -2.06054688e-01,\n",
       "        3.69140625e-01, -5.24902344e-02,  1.30859375e-01,  1.51367188e-01,\n",
       "        1.59179688e-01, -2.36328125e-01,  7.47070312e-02, -5.54199219e-02,\n",
       "       -8.64257812e-02, -2.28515625e-01,  2.44140625e-03,  8.11767578e-03,\n",
       "       -1.62109375e-01,  1.46484375e-01,  1.40625000e-01, -3.82995605e-03,\n",
       "        1.09375000e-01,  1.14257812e-01, -1.19140625e-01, -7.12890625e-02,\n",
       "       -3.53515625e-01,  2.00195312e-01,  5.76171875e-02, -3.67187500e-01,\n",
       "       -2.42919922e-02, -3.97949219e-02, -1.48437500e-01,  4.61425781e-02,\n",
       "        5.00488281e-03, -1.23535156e-01, -7.32421875e-02,  7.47070312e-02,\n",
       "       -3.54003906e-02,  6.98242188e-02,  8.88671875e-02,  3.41796875e-02,\n",
       "        2.65625000e-01, -2.01416016e-02, -2.49023438e-01,  1.73828125e-01,\n",
       "       -3.44238281e-02,  1.74804688e-01,  2.61718750e-01, -9.03320312e-03,\n",
       "       -1.58203125e-01, -2.02148438e-01,  1.15234375e-01,  2.17773438e-01,\n",
       "       -1.08032227e-02,  1.94335938e-01, -2.87109375e-01, -3.93066406e-02,\n",
       "        5.12695312e-02, -8.88671875e-02,  5.95703125e-02,  1.46484375e-01,\n",
       "        6.93359375e-02, -3.06640625e-01, -1.74804688e-01, -3.63281250e-01,\n",
       "        7.42187500e-02, -3.34472656e-02,  1.60156250e-01,  7.50732422e-03,\n",
       "       -1.55029297e-02, -6.59179688e-02,  3.49121094e-02,  8.78906250e-02,\n",
       "        3.55468750e-01, -1.52343750e-01, -6.78710938e-02, -3.01513672e-02,\n",
       "        1.83593750e-01, -1.85546875e-01, -9.66796875e-02, -1.19140625e-01,\n",
       "       -2.34375000e-01, -1.76757812e-01, -6.29882812e-02,  1.53320312e-01,\n",
       "       -8.31604004e-04,  2.47070312e-01, -1.02233887e-03,  1.77734375e-01,\n",
       "        8.05664062e-02, -1.36718750e-01, -1.19140625e-01,  7.86132812e-02,\n",
       "        1.24511719e-01, -1.78710938e-01,  6.68945312e-02,  5.66406250e-02,\n",
       "       -6.44531250e-02,  2.50244141e-02, -4.66308594e-02, -7.76367188e-02,\n",
       "       -2.40478516e-02, -1.31835938e-01,  4.68750000e-02, -1.23046875e-01,\n",
       "       -2.32421875e-01, -1.94335938e-01, -2.12890625e-01,  4.37011719e-02,\n",
       "        8.05664062e-02, -4.41406250e-01, -1.62353516e-02,  1.71875000e-01,\n",
       "       -1.69921875e-01,  1.20117188e-01,  4.85839844e-02,  2.44140625e-01,\n",
       "        7.81250000e-02,  1.16210938e-01, -2.88085938e-02,  4.80957031e-02,\n",
       "       -1.15234375e-01,  1.03027344e-01, -3.66210938e-02, -5.82885742e-03,\n",
       "       -4.98046875e-02,  1.12792969e-01,  2.41210938e-01,  2.91015625e-01,\n",
       "       -1.33666992e-02,  1.53320312e-01,  1.76757812e-01, -8.17871094e-03,\n",
       "       -1.72851562e-01, -6.39648438e-02,  2.40234375e-01, -7.32421875e-02,\n",
       "       -4.12597656e-02,  3.95507812e-02, -3.22265625e-01,  1.36718750e-01,\n",
       "       -1.38671875e-01, -2.04101562e-01,  7.27539062e-02,  1.03515625e-01,\n",
       "        1.08032227e-02,  7.47070312e-02,  1.80664062e-01, -1.62109375e-01,\n",
       "        4.58984375e-02, -3.19824219e-02, -1.10351562e-01, -3.04687500e-01,\n",
       "       -9.71679688e-02, -3.41796875e-01,  2.18505859e-02,  3.90625000e-01,\n",
       "       -6.44531250e-02,  1.17675781e-01, -2.65625000e-01, -1.69677734e-02,\n",
       "       -2.50000000e-01,  5.46875000e-02, -5.41992188e-02,  1.00097656e-01,\n",
       "       -2.04101562e-01, -1.00097656e-01,  4.41894531e-02, -2.46093750e-01,\n",
       "       -2.83203125e-01,  1.10351562e-01,  8.20312500e-02,  1.07910156e-01,\n",
       "        4.37011719e-02,  2.21679688e-01,  1.04492188e-01,  2.05078125e-01,\n",
       "        4.56542969e-02, -2.87109375e-01,  1.01562500e-01, -9.32617188e-02,\n",
       "        2.55859375e-01,  1.68945312e-01,  6.22558594e-02, -9.17968750e-02,\n",
       "       -1.38671875e-01, -3.46679688e-02, -1.65039062e-01, -1.11328125e-01,\n",
       "        4.98046875e-02,  1.25976562e-01,  6.10351562e-02, -3.88183594e-02,\n",
       "       -1.14257812e-01,  2.67578125e-01, -2.69775391e-02,  1.71875000e-01,\n",
       "       -4.10156250e-02, -7.81250000e-03,  7.91015625e-02, -1.10351562e-01,\n",
       "       -2.03125000e-01, -6.56127930e-03, -1.08886719e-01, -2.27539062e-01,\n",
       "        1.26953125e-01,  2.53906250e-02, -9.61914062e-02,  4.76074219e-02,\n",
       "        1.67968750e-01,  1.81884766e-02, -1.04492188e-01,  7.66601562e-02,\n",
       "        9.57031250e-02, -2.79296875e-01,  2.08984375e-01, -1.52343750e-01,\n",
       "        1.49414062e-01,  2.44140625e-01, -1.57226562e-01, -1.95312500e-01,\n",
       "       -3.80859375e-02,  1.70898438e-01, -6.44531250e-02, -1.07421875e-01,\n",
       "        1.50390625e-01,  1.15722656e-01, -4.37011719e-02,  1.41601562e-01,\n",
       "        3.24707031e-02,  1.92871094e-02,  3.83300781e-02, -2.03857422e-02,\n",
       "       -1.81884766e-02,  4.39453125e-01, -1.67236328e-02, -1.20605469e-01,\n",
       "       -2.73437500e-01, -6.78710938e-02, -1.52343750e-01,  1.41601562e-01,\n",
       "       -5.61523438e-02,  4.95605469e-02, -7.37304688e-02, -3.05175781e-03,\n",
       "        1.82617188e-01, -2.95410156e-02,  4.56542969e-02, -2.19726562e-02,\n",
       "        6.46972656e-03, -3.68652344e-02, -4.68750000e-02,  1.18408203e-02,\n",
       "       -6.88476562e-02, -4.56542969e-02,  1.02996826e-03,  1.00097656e-01,\n",
       "       -1.22558594e-01,  1.68945312e-01, -1.57226562e-01,  7.17773438e-02,\n",
       "       -9.17968750e-02, -3.97949219e-02,  1.08886719e-01, -1.92871094e-02,\n",
       "       -1.45507812e-01, -5.56640625e-02, -3.83300781e-02, -3.18359375e-01],\n",
       "      dtype=float32)"
      ]
     },
     "execution_count": 83,
     "metadata": {
      "tags": []
     },
     "output_type": "execute_result"
    }
   ],
   "source": [
    "w2v_model['bank']"
   ]
  },
  {
   "cell_type": "markdown",
   "metadata": {
    "colab_type": "text",
    "id": "tc_5fkMvhOsf"
   },
   "source": [
    "# Document Embeddings from Averaging Word Embeddings"
   ]
  },
  {
   "cell_type": "code",
   "execution_count": 18,
   "metadata": {
    "colab": {},
    "colab_type": "code",
    "id": "gIPqel6eMQC2"
   },
   "outputs": [],
   "source": [
    "import numpy as np\n",
    "\n",
    "def average_word_vectors(words, model, vocabulary, num_features):\n",
    "    \n",
    "    feature_vector = np.zeros((num_features,),dtype=\"float64\")\n",
    "    nwords = 0.\n",
    "    \n",
    "    for word in words:\n",
    "        if word in vocabulary: \n",
    "            nwords = nwords + 1.\n",
    "            feature_vector = np.add(feature_vector, model[word])\n",
    "    \n",
    "    if nwords:\n",
    "        feature_vector = np.divide(feature_vector, nwords)\n",
    "        \n",
    "    return feature_vector\n",
    "\n",
    "\n",
    "def averaged_word_vectorizer(corpus, model, num_features):\n",
    "    vocabulary = set(model.index2word)\n",
    "    features = [average_word_vectors(tokenized_sentence, model, vocabulary, num_features)\n",
    "                    for tokenized_sentence in corpus]\n",
    "    return np.array(features)"
   ]
  },
  {
   "cell_type": "markdown",
   "metadata": {
    "colab_type": "text",
    "id": "UvPE3fq-hUlE"
   },
   "source": [
    "# Similarity based on Word2Vec Embeddings"
   ]
  },
  {
   "cell_type": "code",
   "execution_count": 84,
   "metadata": {
    "colab": {},
    "colab_type": "code",
    "id": "6s21IRclMaQa"
   },
   "outputs": [],
   "source": [
    "w2v_vectors = averaged_word_vectorizer(sentences, model=w2v_model, num_features=300)"
   ]
  },
  {
   "cell_type": "code",
   "execution_count": 86,
   "metadata": {
    "colab": {
     "base_uri": "https://localhost:8080/",
     "height": 85
    },
    "colab_type": "code",
    "id": "yZ3OEtpyUrXo",
    "outputId": "734835bd-24c3-4662-d74e-1383c8455265"
   },
   "outputs": [
    {
     "data": {
      "text/plain": [
       "['He is sitting near the river bank',\n",
       " 'He is sitting in the bank to get some cash',\n",
       " 'The elephant is sitting near the bank of the river',\n",
       " 'The bank is closed so he cannot get any money today']"
      ]
     },
     "execution_count": 86,
     "metadata": {
      "tags": []
     },
     "output_type": "execute_result"
    }
   ],
   "source": [
    "sentences"
   ]
  },
  {
   "cell_type": "code",
   "execution_count": 85,
   "metadata": {
    "colab": {
     "base_uri": "https://localhost:8080/",
     "height": 173
    },
    "colab_type": "code",
    "id": "V6SYdcIeMy-1",
    "outputId": "6b14ba50-eff1-4c75-941e-929c7732cf87"
   },
   "outputs": [
    {
     "data": {
      "text/html": [
       "<div>\n",
       "<style scoped>\n",
       "    .dataframe tbody tr th:only-of-type {\n",
       "        vertical-align: middle;\n",
       "    }\n",
       "\n",
       "    .dataframe tbody tr th {\n",
       "        vertical-align: top;\n",
       "    }\n",
       "\n",
       "    .dataframe thead th {\n",
       "        text-align: right;\n",
       "    }\n",
       "</style>\n",
       "<table border=\"1\" class=\"dataframe\">\n",
       "  <thead>\n",
       "    <tr style=\"text-align: right;\">\n",
       "      <th></th>\n",
       "      <th>0</th>\n",
       "      <th>1</th>\n",
       "      <th>2</th>\n",
       "      <th>3</th>\n",
       "    </tr>\n",
       "  </thead>\n",
       "  <tbody>\n",
       "    <tr>\n",
       "      <th>0</th>\n",
       "      <td>1.000000</td>\n",
       "      <td>0.980478</td>\n",
       "      <td>0.989551</td>\n",
       "      <td>0.956270</td>\n",
       "    </tr>\n",
       "    <tr>\n",
       "      <th>1</th>\n",
       "      <td>0.980478</td>\n",
       "      <td>1.000000</td>\n",
       "      <td>0.979031</td>\n",
       "      <td>0.967277</td>\n",
       "    </tr>\n",
       "    <tr>\n",
       "      <th>2</th>\n",
       "      <td>0.989551</td>\n",
       "      <td>0.979031</td>\n",
       "      <td>1.000000</td>\n",
       "      <td>0.969750</td>\n",
       "    </tr>\n",
       "    <tr>\n",
       "      <th>3</th>\n",
       "      <td>0.956270</td>\n",
       "      <td>0.967277</td>\n",
       "      <td>0.969750</td>\n",
       "      <td>1.000000</td>\n",
       "    </tr>\n",
       "  </tbody>\n",
       "</table>\n",
       "</div>"
      ],
      "text/plain": [
       "          0         1         2         3\n",
       "0  1.000000  0.980478  0.989551  0.956270\n",
       "1  0.980478  1.000000  0.979031  0.967277\n",
       "2  0.989551  0.979031  1.000000  0.969750\n",
       "3  0.956270  0.967277  0.969750  1.000000"
      ]
     },
     "execution_count": 85,
     "metadata": {
      "tags": []
     },
     "output_type": "execute_result"
    }
   ],
   "source": [
    "from sklearn.metrics.pairwise import cosine_similarity\n",
    "import pandas as pd\n",
    "\n",
    "similarity_matrix = cosine_similarity(w2v_vectors)\n",
    "similarity_df = pd.DataFrame(similarity_matrix)\n",
    "similarity_df"
   ]
  },
  {
   "cell_type": "markdown",
   "metadata": {
    "colab_type": "text",
    "id": "tUR0Ejzihabp"
   },
   "source": [
    "# Pre-trained Transformer Embeddings (BERT)\n",
    "\n",
    "![](https://i.imgur.com/dDd5ZbP.png)"
   ]
  },
  {
   "cell_type": "code",
   "execution_count": 23,
   "metadata": {
    "colab": {
     "base_uri": "https://localhost:8080/",
     "height": 595
    },
    "colab_type": "code",
    "id": "uf2K6PozNh0O",
    "outputId": "6841e76e-4669-4e47-f9aa-817bf75cfd4d"
   },
   "outputs": [
    {
     "name": "stdout",
     "output_type": "stream",
     "text": [
      "Collecting transformers\n",
      "\u001b[?25l  Downloading https://files.pythonhosted.org/packages/ae/05/c8c55b600308dc04e95100dc8ad8a244dd800fe75dfafcf1d6348c6f6209/transformers-3.1.0-py3-none-any.whl (884kB)\n",
      "\u001b[K     |████████████████████████████████| 890kB 2.8MB/s \n",
      "\u001b[?25hCollecting sentencepiece!=0.1.92\n",
      "\u001b[?25l  Downloading https://files.pythonhosted.org/packages/d4/a4/d0a884c4300004a78cca907a6ff9a5e9fe4f090f5d95ab341c53d28cbc58/sentencepiece-0.1.91-cp36-cp36m-manylinux1_x86_64.whl (1.1MB)\n",
      "\u001b[K     |████████████████████████████████| 1.1MB 15.7MB/s \n",
      "\u001b[?25hRequirement already satisfied: numpy in /usr/local/lib/python3.6/dist-packages (from transformers) (1.18.5)\n",
      "Requirement already satisfied: packaging in /usr/local/lib/python3.6/dist-packages (from transformers) (20.4)\n",
      "Requirement already satisfied: filelock in /usr/local/lib/python3.6/dist-packages (from transformers) (3.0.12)\n",
      "Collecting tokenizers==0.8.1.rc2\n",
      "\u001b[?25l  Downloading https://files.pythonhosted.org/packages/80/83/8b9fccb9e48eeb575ee19179e2bdde0ee9a1904f97de5f02d19016b8804f/tokenizers-0.8.1rc2-cp36-cp36m-manylinux1_x86_64.whl (3.0MB)\n",
      "\u001b[K     |████████████████████████████████| 3.0MB 21.1MB/s \n",
      "\u001b[?25hCollecting sacremoses\n",
      "\u001b[?25l  Downloading https://files.pythonhosted.org/packages/7d/34/09d19aff26edcc8eb2a01bed8e98f13a1537005d31e95233fd48216eed10/sacremoses-0.0.43.tar.gz (883kB)\n",
      "\u001b[K     |████████████████████████████████| 890kB 33.2MB/s \n",
      "\u001b[?25hRequirement already satisfied: regex!=2019.12.17 in /usr/local/lib/python3.6/dist-packages (from transformers) (2019.12.20)\n",
      "Requirement already satisfied: dataclasses; python_version < \"3.7\" in /usr/local/lib/python3.6/dist-packages (from transformers) (0.7)\n",
      "Requirement already satisfied: tqdm>=4.27 in /usr/local/lib/python3.6/dist-packages (from transformers) (4.41.1)\n",
      "Requirement already satisfied: requests in /usr/local/lib/python3.6/dist-packages (from transformers) (2.23.0)\n",
      "Requirement already satisfied: pyparsing>=2.0.2 in /usr/local/lib/python3.6/dist-packages (from packaging->transformers) (2.4.7)\n",
      "Requirement already satisfied: six in /usr/local/lib/python3.6/dist-packages (from packaging->transformers) (1.15.0)\n",
      "Requirement already satisfied: click in /usr/local/lib/python3.6/dist-packages (from sacremoses->transformers) (7.1.2)\n",
      "Requirement already satisfied: joblib in /usr/local/lib/python3.6/dist-packages (from sacremoses->transformers) (0.16.0)\n",
      "Requirement already satisfied: urllib3!=1.25.0,!=1.25.1,<1.26,>=1.21.1 in /usr/local/lib/python3.6/dist-packages (from requests->transformers) (1.24.3)\n",
      "Requirement already satisfied: chardet<4,>=3.0.2 in /usr/local/lib/python3.6/dist-packages (from requests->transformers) (3.0.4)\n",
      "Requirement already satisfied: certifi>=2017.4.17 in /usr/local/lib/python3.6/dist-packages (from requests->transformers) (2020.6.20)\n",
      "Requirement already satisfied: idna<3,>=2.5 in /usr/local/lib/python3.6/dist-packages (from requests->transformers) (2.10)\n",
      "Building wheels for collected packages: sacremoses\n",
      "  Building wheel for sacremoses (setup.py) ... \u001b[?25l\u001b[?25hdone\n",
      "  Created wheel for sacremoses: filename=sacremoses-0.0.43-cp36-none-any.whl size=893257 sha256=855f135f323282a5399254f5e11bd8dade7e3984e68ca2f0fc00980b4d720435\n",
      "  Stored in directory: /root/.cache/pip/wheels/29/3c/fd/7ce5c3f0666dab31a50123635e6fb5e19ceb42ce38d4e58f45\n",
      "Successfully built sacremoses\n",
      "Installing collected packages: sentencepiece, tokenizers, sacremoses, transformers\n",
      "Successfully installed sacremoses-0.0.43 sentencepiece-0.1.91 tokenizers-0.8.1rc2 transformers-3.1.0\n"
     ]
    }
   ],
   "source": [
    "!pip install transformers"
   ]
  },
  {
   "cell_type": "markdown",
   "metadata": {
    "colab_type": "text",
    "id": "QX0FS4LMiF_a"
   },
   "source": [
    "# BERT for Feature Extraction\n",
    "\n",
    "![](https://i.imgur.com/4uYtfkQ.png)"
   ]
  },
  {
   "cell_type": "markdown",
   "metadata": {
    "colab_type": "text",
    "id": "-PZt74Z2j3oN"
   },
   "source": [
    "# Load Pre-trained BERT Model"
   ]
  },
  {
   "cell_type": "code",
   "execution_count": 24,
   "metadata": {
    "colab": {
     "base_uri": "https://localhost:8080/",
     "height": 249,
     "referenced_widgets": [
      "c20b15af035b4b4fb97a58ce12adddcc",
      "6d82f9fa083542b8bf48462231348485",
      "1d35f68ff0b1444f9ae1fa93c89aaae2",
      "23d9ece5f88a4908bfd158fcdd343663",
      "5cfd3fc0c3e440f7b62063693c987644",
      "4cfcc8503c31480a974e3973a11a97c9",
      "8593a1c67ae64db9b394fc452db66cb4",
      "de4bafcc56594327a2c1eddfb1233ec5",
      "0658c99e1a85404b8e6a5362d794d196",
      "4482dba6377c4c16899d41eb2442870c",
      "56e9d22fdd1748beb2184abee8cccec0",
      "73acdaefc7c74647a4d58826f78b96bb",
      "5c763f11dfe54bdbb2dbb92d440bb95c",
      "76501fe001cf4a2d94f57793223b8321",
      "72a3b7b99705474a87633fd7d9ab1f39",
      "c5db30c2ee9c4ec593a10373c729d9ed",
      "47fb96fdf6624c4ca5ae8993e1da0e14",
      "0506af3bd1b04ce3aa124408aa121351",
      "280bca4d668f46f9b57ad10382134e4e",
      "400b8646b3e545ec866e783161976147",
      "6c5b92e821204106a803d51da93900f6",
      "a5b548bbfb7b4c54adf51fa6b2d14018",
      "4c5542d6b97c40f2a587cb52fab88689",
      "66055fa240b44df981504fc930a836e7"
     ]
    },
    "colab_type": "code",
    "id": "WMBDAADGN33s",
    "outputId": "b24bf943-1c4d-46c8-f224-044af38be761"
   },
   "outputs": [
    {
     "data": {
      "application/vnd.jupyter.widget-view+json": {
       "model_id": "c20b15af035b4b4fb97a58ce12adddcc",
       "version_major": 2,
       "version_minor": 0
      },
      "text/plain": [
       "HBox(children=(FloatProgress(value=0.0, description='Downloading', max=231508.0, style=ProgressStyle(descripti…"
      ]
     },
     "metadata": {
      "tags": []
     },
     "output_type": "display_data"
    },
    {
     "name": "stdout",
     "output_type": "stream",
     "text": [
      "\n"
     ]
    },
    {
     "data": {
      "application/vnd.jupyter.widget-view+json": {
       "model_id": "0658c99e1a85404b8e6a5362d794d196",
       "version_major": 2,
       "version_minor": 0
      },
      "text/plain": [
       "HBox(children=(FloatProgress(value=0.0, description='Downloading', max=433.0, style=ProgressStyle(description_…"
      ]
     },
     "metadata": {
      "tags": []
     },
     "output_type": "display_data"
    },
    {
     "name": "stdout",
     "output_type": "stream",
     "text": [
      "\n"
     ]
    },
    {
     "data": {
      "application/vnd.jupyter.widget-view+json": {
       "model_id": "47fb96fdf6624c4ca5ae8993e1da0e14",
       "version_major": 2,
       "version_minor": 0
      },
      "text/plain": [
       "HBox(children=(FloatProgress(value=0.0, description='Downloading', max=536063208.0, style=ProgressStyle(descri…"
      ]
     },
     "metadata": {
      "tags": []
     },
     "output_type": "display_data"
    },
    {
     "name": "stdout",
     "output_type": "stream",
     "text": [
      "\n"
     ]
    },
    {
     "name": "stderr",
     "output_type": "stream",
     "text": [
      "Some weights of the model checkpoint at bert-base-uncased were not used when initializing TFBertModel: ['nsp___cls', 'mlm___cls']\n",
      "- This IS expected if you are initializing TFBertModel from the checkpoint of a model trained on another task or with another architecture (e.g. initializing a BertForSequenceClassification model from a BertForPretraining model).\n",
      "- This IS NOT expected if you are initializing TFBertModel from the checkpoint of a model that you expect to be exactly identical (initializing a BertForSequenceClassification model from a BertForSequenceClassification model).\n",
      "All the weights of TFBertModel were initialized from the model checkpoint at bert-base-uncased.\n",
      "If your task is similar to the task the model of the checkpoint was trained on, you can already use TFBertModel for predictions without further training.\n"
     ]
    }
   ],
   "source": [
    "import tensorflow as tf\n",
    "from transformers import BertTokenizer, TFBertModel\n",
    "\n",
    "tokenizer = BertTokenizer.from_pretrained('bert-base-uncased')\n",
    "model = TFBertModel.from_pretrained('bert-base-uncased')"
   ]
  },
  {
   "cell_type": "markdown",
   "metadata": {
    "colab_type": "text",
    "id": "YD01Cenxj7gS"
   },
   "source": [
    "# Sample Encoding and Feature Extraction"
   ]
  },
  {
   "cell_type": "code",
   "execution_count": 28,
   "metadata": {
    "colab": {
     "base_uri": "https://localhost:8080/",
     "height": 34
    },
    "colab_type": "code",
    "id": "p768USyXOExG",
    "outputId": "9f916608-a9c3-48b0-806f-87bca5956926"
   },
   "outputs": [
    {
     "data": {
      "text/plain": [
       "[101, 7592, 1010, 2129, 2024, 2017, 1029, 102]"
      ]
     },
     "execution_count": 28,
     "metadata": {
      "tags": []
     },
     "output_type": "execute_result"
    }
   ],
   "source": [
    "token_ids = tokenizer.encode(\"Hello, how are you?\")\n",
    "token_ids"
   ]
  },
  {
   "cell_type": "code",
   "execution_count": 30,
   "metadata": {
    "colab": {
     "base_uri": "https://localhost:8080/",
     "height": 34
    },
    "colab_type": "code",
    "id": "1G4OpuJVOMuR",
    "outputId": "f910ddb1-a1a5-4df6-fd7b-378198070b95"
   },
   "outputs": [
    {
     "data": {
      "text/plain": [
       "['<[CLS]>', '<hello>', '<,>', '<how>', '<are>', '<you>', '<?>', '<[SEP]>']"
      ]
     },
     "execution_count": 30,
     "metadata": {
      "tags": []
     },
     "output_type": "execute_result"
    }
   ],
   "source": [
    "[\"<\"+tokenizer.decode([item])+\">\" for item in token_ids]"
   ]
  },
  {
   "cell_type": "code",
   "execution_count": 31,
   "metadata": {
    "colab": {
     "base_uri": "https://localhost:8080/",
     "height": 68
    },
    "colab_type": "code",
    "id": "Z0NjpDkSOtAk",
    "outputId": "43566abf-1440-4363-dbe1-f4243bf29cff"
   },
   "outputs": [
    {
     "data": {
      "text/plain": [
       "<tf.Tensor: shape=(1, 8), dtype=int32, numpy=\n",
       "array([[  101,  7592,  1010,  2026,  3899,  2003, 10140,   102]],\n",
       "      dtype=int32)>"
      ]
     },
     "execution_count": 31,
     "metadata": {
      "tags": []
     },
     "output_type": "execute_result"
    }
   ],
   "source": [
    "tf.constant(tokenizer.encode(\"Hello, my dog is cute\"))[None, :]"
   ]
  },
  {
   "cell_type": "code",
   "execution_count": 48,
   "metadata": {
    "colab": {},
    "colab_type": "code",
    "id": "AmgqO25eOu3t"
   },
   "outputs": [],
   "source": [
    "token_emb, pooled_emb = model(np.array([token_ids]))"
   ]
  },
  {
   "cell_type": "code",
   "execution_count": 49,
   "metadata": {
    "colab": {
     "base_uri": "https://localhost:8080/",
     "height": 34
    },
    "colab_type": "code",
    "id": "FFz--2_yN9eQ",
    "outputId": "33a0d323-ff9a-441e-dc26-61a5a375e7b3"
   },
   "outputs": [
    {
     "data": {
      "text/plain": [
       "(TensorShape([8, 768]), TensorShape([768]))"
      ]
     },
     "execution_count": 49,
     "metadata": {
      "tags": []
     },
     "output_type": "execute_result"
    }
   ],
   "source": [
    "token_emb[0].shape, pooled_emb[0].shape"
   ]
  },
  {
   "cell_type": "code",
   "execution_count": 50,
   "metadata": {
    "colab": {
     "base_uri": "https://localhost:8080/",
     "height": 54
    },
    "colab_type": "code",
    "id": "KQmF0_RWPazM",
    "outputId": "25b20e3e-149e-44d5-9f72-9bb5e9aba508"
   },
   "outputs": [
    {
     "data": {
      "text/plain": [
       "{'input_ids': [[101, 2002, 2003, 3564, 2379, 1996, 2314, 2924, 102], [101, 2002, 3791, 2000, 2131, 2070, 5356, 2013, 1996, 2924, 102], [101, 2002, 2003, 3564, 2379, 1996, 2924, 1997, 2637, 2311, 102]], 'token_type_ids': [[0, 0, 0, 0, 0, 0, 0, 0, 0], [0, 0, 0, 0, 0, 0, 0, 0, 0, 0, 0], [0, 0, 0, 0, 0, 0, 0, 0, 0, 0, 0]], 'attention_mask': [[1, 1, 1, 1, 1, 1, 1, 1, 1], [1, 1, 1, 1, 1, 1, 1, 1, 1, 1, 1], [1, 1, 1, 1, 1, 1, 1, 1, 1, 1, 1]]}"
      ]
     },
     "execution_count": 50,
     "metadata": {
      "tags": []
     },
     "output_type": "execute_result"
    }
   ],
   "source": [
    "tokenizer(sentences)"
   ]
  },
  {
   "cell_type": "code",
   "execution_count": 87,
   "metadata": {
    "colab": {
     "base_uri": "https://localhost:8080/",
     "height": 85
    },
    "colab_type": "code",
    "id": "ORdRwNMePklH",
    "outputId": "e04fcb6c-3b85-448e-8814-84ca92ac4e63"
   },
   "outputs": [
    {
     "data": {
      "text/plain": [
       "[[101, 2002, 2003, 3564, 2379, 1996, 2314, 2924, 102],\n",
       " [101, 2002, 2003, 3564, 1999, 1996, 2924, 2000, 2131, 2070, 5356, 102],\n",
       " [101, 1996, 10777, 2003, 3564, 2379, 1996, 2924, 1997, 1996, 2314, 102],\n",
       " [101, 1996, 2924, 2003, 2701, 2061, 2002, 3685, 2131, 2151, 2769, 2651, 102]]"
      ]
     },
     "execution_count": 87,
     "metadata": {
      "tags": []
     },
     "output_type": "execute_result"
    }
   ],
   "source": [
    "bert_token_ids = tokenizer(sentences)['input_ids']\n",
    "bert_token_ids"
   ]
  },
  {
   "cell_type": "code",
   "execution_count": 88,
   "metadata": {
    "colab": {},
    "colab_type": "code",
    "id": "1L5heZzlPnIx"
   },
   "outputs": [],
   "source": [
    "token_emb = np.array([model(np.array([tokens]))[0] for tokens in bert_token_ids])\n",
    "pooled_emb = np.array([model(np.array([tokens]))[1] for tokens in bert_token_ids])"
   ]
  },
  {
   "cell_type": "code",
   "execution_count": 89,
   "metadata": {
    "colab": {
     "base_uri": "https://localhost:8080/",
     "height": 34
    },
    "colab_type": "code",
    "id": "yFbirXq1RzOa",
    "outputId": "2a8b38aa-42e9-4506-e2cf-9db1c9c67f6f"
   },
   "outputs": [
    {
     "data": {
      "text/plain": [
       "(4, 768)"
      ]
     },
     "execution_count": 89,
     "metadata": {
      "tags": []
     },
     "output_type": "execute_result"
    }
   ],
   "source": [
    "pooled_emb = np.array([item[0] for item in pooled_emb])\n",
    "pooled_emb.shape"
   ]
  },
  {
   "cell_type": "markdown",
   "metadata": {
    "colab_type": "text",
    "id": "yZXwXH6_m61X"
   },
   "source": [
    "# Semantic Similarity based on Pooled BERT Embeddings"
   ]
  },
  {
   "cell_type": "code",
   "execution_count": 91,
   "metadata": {
    "colab": {
     "base_uri": "https://localhost:8080/",
     "height": 85
    },
    "colab_type": "code",
    "id": "qbZ2xgR9VAog",
    "outputId": "e8373ea5-1503-4cec-c214-46d28b56fd51"
   },
   "outputs": [
    {
     "data": {
      "text/plain": [
       "['He is sitting near the river bank',\n",
       " 'He is sitting in the bank to get some cash',\n",
       " 'The elephant is sitting near the bank of the river',\n",
       " 'The bank is closed so he cannot get any money today']"
      ]
     },
     "execution_count": 91,
     "metadata": {
      "tags": []
     },
     "output_type": "execute_result"
    }
   ],
   "source": [
    "sentences"
   ]
  },
  {
   "cell_type": "code",
   "execution_count": 90,
   "metadata": {
    "colab": {
     "base_uri": "https://localhost:8080/",
     "height": 173
    },
    "colab_type": "code",
    "id": "UBzY643ySkEH",
    "outputId": "14c96a2b-af38-46ce-8f1c-413a05c70be9"
   },
   "outputs": [
    {
     "data": {
      "text/html": [
       "<div>\n",
       "<style scoped>\n",
       "    .dataframe tbody tr th:only-of-type {\n",
       "        vertical-align: middle;\n",
       "    }\n",
       "\n",
       "    .dataframe tbody tr th {\n",
       "        vertical-align: top;\n",
       "    }\n",
       "\n",
       "    .dataframe thead th {\n",
       "        text-align: right;\n",
       "    }\n",
       "</style>\n",
       "<table border=\"1\" class=\"dataframe\">\n",
       "  <thead>\n",
       "    <tr style=\"text-align: right;\">\n",
       "      <th></th>\n",
       "      <th>0</th>\n",
       "      <th>1</th>\n",
       "      <th>2</th>\n",
       "      <th>3</th>\n",
       "    </tr>\n",
       "  </thead>\n",
       "  <tbody>\n",
       "    <tr>\n",
       "      <th>0</th>\n",
       "      <td>1.000000</td>\n",
       "      <td>0.756986</td>\n",
       "      <td>0.932169</td>\n",
       "      <td>0.947001</td>\n",
       "    </tr>\n",
       "    <tr>\n",
       "      <th>1</th>\n",
       "      <td>0.756986</td>\n",
       "      <td>1.000000</td>\n",
       "      <td>0.895952</td>\n",
       "      <td>0.893017</td>\n",
       "    </tr>\n",
       "    <tr>\n",
       "      <th>2</th>\n",
       "      <td>0.932169</td>\n",
       "      <td>0.895952</td>\n",
       "      <td>1.000000</td>\n",
       "      <td>0.972800</td>\n",
       "    </tr>\n",
       "    <tr>\n",
       "      <th>3</th>\n",
       "      <td>0.947001</td>\n",
       "      <td>0.893017</td>\n",
       "      <td>0.972800</td>\n",
       "      <td>1.000000</td>\n",
       "    </tr>\n",
       "  </tbody>\n",
       "</table>\n",
       "</div>"
      ],
      "text/plain": [
       "          0         1         2         3\n",
       "0  1.000000  0.756986  0.932169  0.947001\n",
       "1  0.756986  1.000000  0.895952  0.893017\n",
       "2  0.932169  0.895952  1.000000  0.972800\n",
       "3  0.947001  0.893017  0.972800  1.000000"
      ]
     },
     "execution_count": 90,
     "metadata": {
      "tags": []
     },
     "output_type": "execute_result"
    }
   ],
   "source": [
    "similarity_matrix = cosine_similarity(pooled_emb)\n",
    "similarity_df = pd.DataFrame(similarity_matrix)\n",
    "similarity_df"
   ]
  },
  {
   "cell_type": "markdown",
   "metadata": {
    "colab_type": "text",
    "id": "Di90gFzGnBIw"
   },
   "source": [
    "# Semantic Similarity based on Averaged BERT Token Embeddings"
   ]
  },
  {
   "cell_type": "code",
   "execution_count": 157,
   "metadata": {
    "colab": {
     "base_uri": "https://localhost:8080/",
     "height": 85
    },
    "colab_type": "code",
    "id": "d_-Cbxl1nOn8",
    "outputId": "2667cd6c-d657-41f9-eb4e-647814b81f85"
   },
   "outputs": [
    {
     "data": {
      "text/plain": [
       "['He is sitting near the river bank',\n",
       " 'He is sitting in the bank to get some cash',\n",
       " 'The elephant is sitting near the bank of the river',\n",
       " 'The bank is closed so he cannot get any money today']"
      ]
     },
     "execution_count": 157,
     "metadata": {
      "tags": []
     },
     "output_type": "execute_result"
    }
   ],
   "source": [
    "sentences"
   ]
  },
  {
   "cell_type": "code",
   "execution_count": 92,
   "metadata": {
    "colab": {
     "base_uri": "https://localhost:8080/",
     "height": 34
    },
    "colab_type": "code",
    "id": "tJrvg7J0SmzN",
    "outputId": "17e98c1d-e8ec-489b-8907-426eac208d31"
   },
   "outputs": [
    {
     "data": {
      "text/plain": [
       "(4, 768)"
      ]
     },
     "execution_count": 92,
     "metadata": {
      "tags": []
     },
     "output_type": "execute_result"
    }
   ],
   "source": [
    "token_emb_flat = np.array([np.mean(item[0], axis=0) for item in token_emb])\n",
    "token_emb_flat.shape"
   ]
  },
  {
   "cell_type": "code",
   "execution_count": 93,
   "metadata": {
    "colab": {
     "base_uri": "https://localhost:8080/",
     "height": 173
    },
    "colab_type": "code",
    "id": "wFSOGRClTMjq",
    "outputId": "a43988b4-74e5-454a-e3c6-33db5c4e3ab6"
   },
   "outputs": [
    {
     "data": {
      "text/html": [
       "<div>\n",
       "<style scoped>\n",
       "    .dataframe tbody tr th:only-of-type {\n",
       "        vertical-align: middle;\n",
       "    }\n",
       "\n",
       "    .dataframe tbody tr th {\n",
       "        vertical-align: top;\n",
       "    }\n",
       "\n",
       "    .dataframe thead th {\n",
       "        text-align: right;\n",
       "    }\n",
       "</style>\n",
       "<table border=\"1\" class=\"dataframe\">\n",
       "  <thead>\n",
       "    <tr style=\"text-align: right;\">\n",
       "      <th></th>\n",
       "      <th>0</th>\n",
       "      <th>1</th>\n",
       "      <th>2</th>\n",
       "      <th>3</th>\n",
       "    </tr>\n",
       "  </thead>\n",
       "  <tbody>\n",
       "    <tr>\n",
       "      <th>0</th>\n",
       "      <td>1.000000</td>\n",
       "      <td>0.753337</td>\n",
       "      <td>0.829573</td>\n",
       "      <td>0.716291</td>\n",
       "    </tr>\n",
       "    <tr>\n",
       "      <th>1</th>\n",
       "      <td>0.753337</td>\n",
       "      <td>1.000000</td>\n",
       "      <td>0.674486</td>\n",
       "      <td>0.857112</td>\n",
       "    </tr>\n",
       "    <tr>\n",
       "      <th>2</th>\n",
       "      <td>0.829573</td>\n",
       "      <td>0.674486</td>\n",
       "      <td>1.000000</td>\n",
       "      <td>0.686655</td>\n",
       "    </tr>\n",
       "    <tr>\n",
       "      <th>3</th>\n",
       "      <td>0.716291</td>\n",
       "      <td>0.857112</td>\n",
       "      <td>0.686655</td>\n",
       "      <td>1.000000</td>\n",
       "    </tr>\n",
       "  </tbody>\n",
       "</table>\n",
       "</div>"
      ],
      "text/plain": [
       "          0         1         2         3\n",
       "0  1.000000  0.753337  0.829573  0.716291\n",
       "1  0.753337  1.000000  0.674486  0.857112\n",
       "2  0.829573  0.674486  1.000000  0.686655\n",
       "3  0.716291  0.857112  0.686655  1.000000"
      ]
     },
     "execution_count": 93,
     "metadata": {
      "tags": []
     },
     "output_type": "execute_result"
    }
   ],
   "source": [
    "similarity_matrix = cosine_similarity(token_emb_flat)\n",
    "similarity_df = pd.DataFrame(similarity_matrix)\n",
    "similarity_df"
   ]
  },
  {
   "cell_type": "markdown",
   "metadata": {
    "colab_type": "text",
    "id": "x26l6_VpnSIn"
   },
   "source": [
    "#  Simple Search Engine!\n",
    "\n",
    "Let's create a corpus of documents which will be our source on which we will run text searches"
   ]
  },
  {
   "cell_type": "code",
   "execution_count": 96,
   "metadata": {
    "colab": {},
    "colab_type": "code",
    "id": "IfvzmamjTN71"
   },
   "outputs": [],
   "source": [
    "corpus = np.array(['A man is eating food.',\n",
    "          'A man is eating a piece of bread.',\n",
    "          'The girl is carrying a baby.',\n",
    "          'A man is riding a horse.',\n",
    "          'A woman is playing violin.',\n",
    "          'Two men pushed carts through the woods.',\n",
    "          'A man is riding a white horse on an enclosed ground.',\n",
    "          'A monkey is playing drums.',\n",
    "          'A cheetah is running behind its prey.'\n",
    "          ])"
   ]
  },
  {
   "cell_type": "markdown",
   "metadata": {
    "colab_type": "text",
    "id": "u1Yp-Yq6nc4w"
   },
   "source": [
    "## Similar document search using Word2Vec Embeddings"
   ]
  },
  {
   "cell_type": "code",
   "execution_count": 97,
   "metadata": {
    "colab": {},
    "colab_type": "code",
    "id": "OqAKhAECWHM8"
   },
   "outputs": [],
   "source": [
    "w2v_vectors = averaged_word_vectorizer(corpus, model=w2v_model, num_features=300)"
   ]
  },
  {
   "cell_type": "code",
   "execution_count": 145,
   "metadata": {
    "colab": {},
    "colab_type": "code",
    "id": "ZlFn2z5Qat_H"
   },
   "outputs": [],
   "source": [
    "def get_w2v_similar_docs(new_sentence, w2v_model, num_features, corpus_vectors):\n",
    "  ns_w2v = averaged_word_vectorizer([new_sentence], model=w2v_model, num_features=num_features)\n",
    "  cs = cosine_similarity(ns_w2v, corpus_vectors)\n",
    "  top2_idx = np.argsort(-cs)[0][:2]\n",
    "  print('Top 2 most similar to:', new_sentence)\n",
    "  print(corpus[top2_idx])"
   ]
  },
  {
   "cell_type": "code",
   "execution_count": 146,
   "metadata": {
    "colab": {
     "base_uri": "https://localhost:8080/",
     "height": 51
    },
    "colab_type": "code",
    "id": "di-24bL2WMM4",
    "outputId": "76e664a2-2cfb-43ba-a582-d295aad8f5e8"
   },
   "outputs": [
    {
     "name": "stdout",
     "output_type": "stream",
     "text": [
      "Top 2 most similar to: A man is eating a pasta\n",
      "['A man is eating food.' 'A cheetah is running behind its prey.']\n"
     ]
    }
   ],
   "source": [
    "new_sentence = 'A man is eating a pasta'\n",
    "get_w2v_similar_docs(new_sentence, w2v_model, num_features=300, corpus_vectors=w2v_vectors)"
   ]
  },
  {
   "cell_type": "code",
   "execution_count": 147,
   "metadata": {
    "colab": {
     "base_uri": "https://localhost:8080/",
     "height": 68
    },
    "colab_type": "code",
    "id": "jR5zaMwCWcYV",
    "outputId": "f9b358c6-ea04-48b4-ff0c-39e11cbe76be"
   },
   "outputs": [
    {
     "name": "stdout",
     "output_type": "stream",
     "text": [
      "Top 2 most similar to: Someone in a gorilla costume is playing a set of drums.\n",
      "['A man is riding a white horse on an enclosed ground.'\n",
      " 'A man is eating food.']\n"
     ]
    }
   ],
   "source": [
    "new_sentence = 'Someone in a gorilla costume is playing a set of drums.'\n",
    "get_w2v_similar_docs(new_sentence, w2v_model, num_features=300, corpus_vectors=w2v_vectors)"
   ]
  },
  {
   "cell_type": "code",
   "execution_count": 148,
   "metadata": {
    "colab": {
     "base_uri": "https://localhost:8080/",
     "height": 68
    },
    "colab_type": "code",
    "id": "PTp4iyBkW9Ef",
    "outputId": "7a4bfdf5-8e37-4aa4-f215-16946f48df02"
   },
   "outputs": [
    {
     "name": "stdout",
     "output_type": "stream",
     "text": [
      "Top 2 most similar to: A cheetah chases prey on across a field.\n",
      "['A cheetah is running behind its prey.'\n",
      " 'A man is eating a piece of bread.']\n"
     ]
    }
   ],
   "source": [
    "new_sentence = 'A cheetah chases prey on across a field.'\n",
    "get_w2v_similar_docs(new_sentence, w2v_model, num_features=300, corpus_vectors=w2v_vectors)"
   ]
  },
  {
   "cell_type": "markdown",
   "metadata": {
    "colab_type": "text",
    "id": "WTlvk0-9nkEn"
   },
   "source": [
    "## Similar document search using BERT Embeddings"
   ]
  },
  {
   "cell_type": "code",
   "execution_count": 149,
   "metadata": {
    "colab": {},
    "colab_type": "code",
    "id": "231IHB_TXRZt"
   },
   "outputs": [],
   "source": [
    "bert_token_ids = tokenizer(list(corpus))['input_ids']\n",
    "token_emb = np.array([model(np.array([tokens]))[0] for tokens in bert_token_ids])\n",
    "pooled_emb = np.array([model(np.array([tokens]))[1][0] for tokens in bert_token_ids])\n",
    "token_emb_flat = np.array([np.mean(item[0], axis=0) for item in token_emb])"
   ]
  },
  {
   "cell_type": "code",
   "execution_count": 151,
   "metadata": {
    "colab": {},
    "colab_type": "code",
    "id": "DzPo1S9cbRIz"
   },
   "outputs": [],
   "source": [
    "def get_bert_similar_docs(new_sentence, bert_tokenizer, bert_model, pooled_corpus_vectors, token_corpus_vectors_flat):\n",
    "  tokens = bert_tokenizer([new_sentence])['input_ids']\n",
    "  token_ns_emb = np.array([bert_model(np.array([token]))[0] for token in tokens])\n",
    "  token_ns_emb_flat = np.array([np.mean(item[0], axis=0) for item in token_ns_emb])\n",
    "  pooled_ns_emb = np.array([bert_model(np.array([token]))[1][0] for token in tokens])\n",
    "\n",
    "  cs = cosine_similarity(pooled_ns_emb, pooled_corpus_vectors)\n",
    "  top2_idx = np.argsort(-cs)[0][:2]\n",
    "  print('[Pooled Embedding] Top 2 most similar to:', new_sentence)\n",
    "  print(corpus[top2_idx])\n",
    "  print()\n",
    "\n",
    "  cs = cosine_similarity(token_ns_emb_flat, token_corpus_vectors_flat)\n",
    "  top2_idx = np.argsort(-cs)[0][:2]\n",
    "  print('[Avg Token Embeddings] Top 2 most similar to:', new_sentence)\n",
    "  print(corpus[top2_idx])"
   ]
  },
  {
   "cell_type": "code",
   "execution_count": 152,
   "metadata": {
    "colab": {
     "base_uri": "https://localhost:8080/",
     "height": 102
    },
    "colab_type": "code",
    "id": "781oO6m5XhPx",
    "outputId": "39417933-bf3a-4a1b-d1ea-94850940f5a9"
   },
   "outputs": [
    {
     "name": "stdout",
     "output_type": "stream",
     "text": [
      "[Pooled Embedding] Top 2 most similar to: A man is eating a pasta\n",
      "['A cheetah is running behind its prey.' 'A man is eating food.']\n",
      "\n",
      "[Avg Token Embeddings] Top 2 most similar to: A man is eating a pasta\n",
      "['A man is eating food.' 'A man is eating a piece of bread.']\n"
     ]
    }
   ],
   "source": [
    "new_sentence = 'A man is eating a pasta'\n",
    "get_bert_similar_docs(new_sentence, \n",
    "                      bert_tokenizer=tokenizer, \n",
    "                      bert_model=model, \n",
    "                      pooled_corpus_vectors=pooled_emb, \n",
    "                      token_corpus_vectors_flat=token_emb_flat)"
   ]
  },
  {
   "cell_type": "code",
   "execution_count": 154,
   "metadata": {
    "colab": {
     "base_uri": "https://localhost:8080/",
     "height": 102
    },
    "colab_type": "code",
    "id": "_9l0EBlUX4P0",
    "outputId": "ebfda7eb-27ce-4fcb-ffbf-3270013bc167"
   },
   "outputs": [
    {
     "name": "stdout",
     "output_type": "stream",
     "text": [
      "[Pooled Embedding] Top 2 most similar to: Someone in a gorilla costume is playing a set of drums.\n",
      "['A monkey is playing drums.' 'A man is riding a horse.']\n",
      "\n",
      "[Avg Token Embeddings] Top 2 most similar to: Someone in a gorilla costume is playing a set of drums.\n",
      "['A monkey is playing drums.' 'A woman is playing violin.']\n"
     ]
    }
   ],
   "source": [
    "new_sentence = 'Someone in a gorilla costume is playing a set of drums.'\n",
    "get_bert_similar_docs(new_sentence, \n",
    "                      bert_tokenizer=tokenizer, \n",
    "                      bert_model=model, \n",
    "                      pooled_corpus_vectors=pooled_emb, \n",
    "                      token_corpus_vectors_flat=token_emb_flat)"
   ]
  },
  {
   "cell_type": "code",
   "execution_count": 155,
   "metadata": {
    "colab": {
     "base_uri": "https://localhost:8080/",
     "height": 136
    },
    "colab_type": "code",
    "id": "IGqAy8JEX4wb",
    "outputId": "680fd842-15a6-45ae-a037-802d893adbfa"
   },
   "outputs": [
    {
     "name": "stdout",
     "output_type": "stream",
     "text": [
      "[Pooled Embedding] Top 2 most similar to: A cheetah chases prey on across a field.\n",
      "['A man is riding a white horse on an enclosed ground.'\n",
      " 'A man is riding a horse.']\n",
      "\n",
      "[Avg Token Embeddings] Top 2 most similar to: A cheetah chases prey on across a field.\n",
      "['A cheetah is running behind its prey.'\n",
      " 'A man is riding a white horse on an enclosed ground.']\n"
     ]
    }
   ],
   "source": [
    "new_sentence = 'A cheetah chases prey on across a field.'\n",
    "get_bert_similar_docs(new_sentence, \n",
    "                      bert_tokenizer=tokenizer, \n",
    "                      bert_model=model, \n",
    "                      pooled_corpus_vectors=pooled_emb, \n",
    "                      token_corpus_vectors_flat=token_emb_flat)"
   ]
  }
 ],
 "metadata": {
  "accelerator": "GPU",
  "colab": {
   "collapsed_sections": [],
   "machine_shape": "hm",
   "name": "07_Text_Representation_Pre-Trained_Embeddings_Transfer_Learning.ipynb",
   "provenance": []
  },
  "kernelspec": {
   "display_name": "Python 3",
   "language": "python",
   "name": "python3"
  },
  "language_info": {
   "codemirror_mode": {
    "name": "ipython",
    "version": 3
   },
   "file_extension": ".py",
   "mimetype": "text/x-python",
   "name": "python",
   "nbconvert_exporter": "python",
   "pygments_lexer": "ipython3",
   "version": "3.5.6"
  },
  "widgets": {
   "application/vnd.jupyter.widget-state+json": {
    "0506af3bd1b04ce3aa124408aa121351": {
     "model_module": "@jupyter-widgets/base",
     "model_name": "LayoutModel",
     "state": {
      "_model_module": "@jupyter-widgets/base",
      "_model_module_version": "1.2.0",
      "_model_name": "LayoutModel",
      "_view_count": null,
      "_view_module": "@jupyter-widgets/base",
      "_view_module_version": "1.2.0",
      "_view_name": "LayoutView",
      "align_content": null,
      "align_items": null,
      "align_self": null,
      "border": null,
      "bottom": null,
      "display": null,
      "flex": null,
      "flex_flow": null,
      "grid_area": null,
      "grid_auto_columns": null,
      "grid_auto_flow": null,
      "grid_auto_rows": null,
      "grid_column": null,
      "grid_gap": null,
      "grid_row": null,
      "grid_template_areas": null,
      "grid_template_columns": null,
      "grid_template_rows": null,
      "height": null,
      "justify_content": null,
      "justify_items": null,
      "left": null,
      "margin": null,
      "max_height": null,
      "max_width": null,
      "min_height": null,
      "min_width": null,
      "object_fit": null,
      "object_position": null,
      "order": null,
      "overflow": null,
      "overflow_x": null,
      "overflow_y": null,
      "padding": null,
      "right": null,
      "top": null,
      "visibility": null,
      "width": null
     }
    },
    "0658c99e1a85404b8e6a5362d794d196": {
     "model_module": "@jupyter-widgets/controls",
     "model_name": "HBoxModel",
     "state": {
      "_dom_classes": [],
      "_model_module": "@jupyter-widgets/controls",
      "_model_module_version": "1.5.0",
      "_model_name": "HBoxModel",
      "_view_count": null,
      "_view_module": "@jupyter-widgets/controls",
      "_view_module_version": "1.5.0",
      "_view_name": "HBoxView",
      "box_style": "",
      "children": [
       "IPY_MODEL_56e9d22fdd1748beb2184abee8cccec0",
       "IPY_MODEL_73acdaefc7c74647a4d58826f78b96bb"
      ],
      "layout": "IPY_MODEL_4482dba6377c4c16899d41eb2442870c"
     }
    },
    "1d35f68ff0b1444f9ae1fa93c89aaae2": {
     "model_module": "@jupyter-widgets/controls",
     "model_name": "FloatProgressModel",
     "state": {
      "_dom_classes": [],
      "_model_module": "@jupyter-widgets/controls",
      "_model_module_version": "1.5.0",
      "_model_name": "FloatProgressModel",
      "_view_count": null,
      "_view_module": "@jupyter-widgets/controls",
      "_view_module_version": "1.5.0",
      "_view_name": "ProgressView",
      "bar_style": "success",
      "description": "Downloading: 100%",
      "description_tooltip": null,
      "layout": "IPY_MODEL_4cfcc8503c31480a974e3973a11a97c9",
      "max": 231508,
      "min": 0,
      "orientation": "horizontal",
      "style": "IPY_MODEL_5cfd3fc0c3e440f7b62063693c987644",
      "value": 231508
     }
    },
    "23d9ece5f88a4908bfd158fcdd343663": {
     "model_module": "@jupyter-widgets/controls",
     "model_name": "HTMLModel",
     "state": {
      "_dom_classes": [],
      "_model_module": "@jupyter-widgets/controls",
      "_model_module_version": "1.5.0",
      "_model_name": "HTMLModel",
      "_view_count": null,
      "_view_module": "@jupyter-widgets/controls",
      "_view_module_version": "1.5.0",
      "_view_name": "HTMLView",
      "description": "",
      "description_tooltip": null,
      "layout": "IPY_MODEL_de4bafcc56594327a2c1eddfb1233ec5",
      "placeholder": "​",
      "style": "IPY_MODEL_8593a1c67ae64db9b394fc452db66cb4",
      "value": " 232k/232k [00:00&lt;00:00, 307kB/s]"
     }
    },
    "280bca4d668f46f9b57ad10382134e4e": {
     "model_module": "@jupyter-widgets/controls",
     "model_name": "FloatProgressModel",
     "state": {
      "_dom_classes": [],
      "_model_module": "@jupyter-widgets/controls",
      "_model_module_version": "1.5.0",
      "_model_name": "FloatProgressModel",
      "_view_count": null,
      "_view_module": "@jupyter-widgets/controls",
      "_view_module_version": "1.5.0",
      "_view_name": "ProgressView",
      "bar_style": "success",
      "description": "Downloading: 100%",
      "description_tooltip": null,
      "layout": "IPY_MODEL_a5b548bbfb7b4c54adf51fa6b2d14018",
      "max": 536063208,
      "min": 0,
      "orientation": "horizontal",
      "style": "IPY_MODEL_6c5b92e821204106a803d51da93900f6",
      "value": 536063208
     }
    },
    "400b8646b3e545ec866e783161976147": {
     "model_module": "@jupyter-widgets/controls",
     "model_name": "HTMLModel",
     "state": {
      "_dom_classes": [],
      "_model_module": "@jupyter-widgets/controls",
      "_model_module_version": "1.5.0",
      "_model_name": "HTMLModel",
      "_view_count": null,
      "_view_module": "@jupyter-widgets/controls",
      "_view_module_version": "1.5.0",
      "_view_name": "HTMLView",
      "description": "",
      "description_tooltip": null,
      "layout": "IPY_MODEL_66055fa240b44df981504fc930a836e7",
      "placeholder": "​",
      "style": "IPY_MODEL_4c5542d6b97c40f2a587cb52fab88689",
      "value": " 536M/536M [00:06&lt;00:00, 82.4MB/s]"
     }
    },
    "4482dba6377c4c16899d41eb2442870c": {
     "model_module": "@jupyter-widgets/base",
     "model_name": "LayoutModel",
     "state": {
      "_model_module": "@jupyter-widgets/base",
      "_model_module_version": "1.2.0",
      "_model_name": "LayoutModel",
      "_view_count": null,
      "_view_module": "@jupyter-widgets/base",
      "_view_module_version": "1.2.0",
      "_view_name": "LayoutView",
      "align_content": null,
      "align_items": null,
      "align_self": null,
      "border": null,
      "bottom": null,
      "display": null,
      "flex": null,
      "flex_flow": null,
      "grid_area": null,
      "grid_auto_columns": null,
      "grid_auto_flow": null,
      "grid_auto_rows": null,
      "grid_column": null,
      "grid_gap": null,
      "grid_row": null,
      "grid_template_areas": null,
      "grid_template_columns": null,
      "grid_template_rows": null,
      "height": null,
      "justify_content": null,
      "justify_items": null,
      "left": null,
      "margin": null,
      "max_height": null,
      "max_width": null,
      "min_height": null,
      "min_width": null,
      "object_fit": null,
      "object_position": null,
      "order": null,
      "overflow": null,
      "overflow_x": null,
      "overflow_y": null,
      "padding": null,
      "right": null,
      "top": null,
      "visibility": null,
      "width": null
     }
    },
    "47fb96fdf6624c4ca5ae8993e1da0e14": {
     "model_module": "@jupyter-widgets/controls",
     "model_name": "HBoxModel",
     "state": {
      "_dom_classes": [],
      "_model_module": "@jupyter-widgets/controls",
      "_model_module_version": "1.5.0",
      "_model_name": "HBoxModel",
      "_view_count": null,
      "_view_module": "@jupyter-widgets/controls",
      "_view_module_version": "1.5.0",
      "_view_name": "HBoxView",
      "box_style": "",
      "children": [
       "IPY_MODEL_280bca4d668f46f9b57ad10382134e4e",
       "IPY_MODEL_400b8646b3e545ec866e783161976147"
      ],
      "layout": "IPY_MODEL_0506af3bd1b04ce3aa124408aa121351"
     }
    },
    "4c5542d6b97c40f2a587cb52fab88689": {
     "model_module": "@jupyter-widgets/controls",
     "model_name": "DescriptionStyleModel",
     "state": {
      "_model_module": "@jupyter-widgets/controls",
      "_model_module_version": "1.5.0",
      "_model_name": "DescriptionStyleModel",
      "_view_count": null,
      "_view_module": "@jupyter-widgets/base",
      "_view_module_version": "1.2.0",
      "_view_name": "StyleView",
      "description_width": ""
     }
    },
    "4cfcc8503c31480a974e3973a11a97c9": {
     "model_module": "@jupyter-widgets/base",
     "model_name": "LayoutModel",
     "state": {
      "_model_module": "@jupyter-widgets/base",
      "_model_module_version": "1.2.0",
      "_model_name": "LayoutModel",
      "_view_count": null,
      "_view_module": "@jupyter-widgets/base",
      "_view_module_version": "1.2.0",
      "_view_name": "LayoutView",
      "align_content": null,
      "align_items": null,
      "align_self": null,
      "border": null,
      "bottom": null,
      "display": null,
      "flex": null,
      "flex_flow": null,
      "grid_area": null,
      "grid_auto_columns": null,
      "grid_auto_flow": null,
      "grid_auto_rows": null,
      "grid_column": null,
      "grid_gap": null,
      "grid_row": null,
      "grid_template_areas": null,
      "grid_template_columns": null,
      "grid_template_rows": null,
      "height": null,
      "justify_content": null,
      "justify_items": null,
      "left": null,
      "margin": null,
      "max_height": null,
      "max_width": null,
      "min_height": null,
      "min_width": null,
      "object_fit": null,
      "object_position": null,
      "order": null,
      "overflow": null,
      "overflow_x": null,
      "overflow_y": null,
      "padding": null,
      "right": null,
      "top": null,
      "visibility": null,
      "width": null
     }
    },
    "56e9d22fdd1748beb2184abee8cccec0": {
     "model_module": "@jupyter-widgets/controls",
     "model_name": "FloatProgressModel",
     "state": {
      "_dom_classes": [],
      "_model_module": "@jupyter-widgets/controls",
      "_model_module_version": "1.5.0",
      "_model_name": "FloatProgressModel",
      "_view_count": null,
      "_view_module": "@jupyter-widgets/controls",
      "_view_module_version": "1.5.0",
      "_view_name": "ProgressView",
      "bar_style": "success",
      "description": "Downloading: 100%",
      "description_tooltip": null,
      "layout": "IPY_MODEL_76501fe001cf4a2d94f57793223b8321",
      "max": 433,
      "min": 0,
      "orientation": "horizontal",
      "style": "IPY_MODEL_5c763f11dfe54bdbb2dbb92d440bb95c",
      "value": 433
     }
    },
    "5c763f11dfe54bdbb2dbb92d440bb95c": {
     "model_module": "@jupyter-widgets/controls",
     "model_name": "ProgressStyleModel",
     "state": {
      "_model_module": "@jupyter-widgets/controls",
      "_model_module_version": "1.5.0",
      "_model_name": "ProgressStyleModel",
      "_view_count": null,
      "_view_module": "@jupyter-widgets/base",
      "_view_module_version": "1.2.0",
      "_view_name": "StyleView",
      "bar_color": null,
      "description_width": "initial"
     }
    },
    "5cfd3fc0c3e440f7b62063693c987644": {
     "model_module": "@jupyter-widgets/controls",
     "model_name": "ProgressStyleModel",
     "state": {
      "_model_module": "@jupyter-widgets/controls",
      "_model_module_version": "1.5.0",
      "_model_name": "ProgressStyleModel",
      "_view_count": null,
      "_view_module": "@jupyter-widgets/base",
      "_view_module_version": "1.2.0",
      "_view_name": "StyleView",
      "bar_color": null,
      "description_width": "initial"
     }
    },
    "66055fa240b44df981504fc930a836e7": {
     "model_module": "@jupyter-widgets/base",
     "model_name": "LayoutModel",
     "state": {
      "_model_module": "@jupyter-widgets/base",
      "_model_module_version": "1.2.0",
      "_model_name": "LayoutModel",
      "_view_count": null,
      "_view_module": "@jupyter-widgets/base",
      "_view_module_version": "1.2.0",
      "_view_name": "LayoutView",
      "align_content": null,
      "align_items": null,
      "align_self": null,
      "border": null,
      "bottom": null,
      "display": null,
      "flex": null,
      "flex_flow": null,
      "grid_area": null,
      "grid_auto_columns": null,
      "grid_auto_flow": null,
      "grid_auto_rows": null,
      "grid_column": null,
      "grid_gap": null,
      "grid_row": null,
      "grid_template_areas": null,
      "grid_template_columns": null,
      "grid_template_rows": null,
      "height": null,
      "justify_content": null,
      "justify_items": null,
      "left": null,
      "margin": null,
      "max_height": null,
      "max_width": null,
      "min_height": null,
      "min_width": null,
      "object_fit": null,
      "object_position": null,
      "order": null,
      "overflow": null,
      "overflow_x": null,
      "overflow_y": null,
      "padding": null,
      "right": null,
      "top": null,
      "visibility": null,
      "width": null
     }
    },
    "6c5b92e821204106a803d51da93900f6": {
     "model_module": "@jupyter-widgets/controls",
     "model_name": "ProgressStyleModel",
     "state": {
      "_model_module": "@jupyter-widgets/controls",
      "_model_module_version": "1.5.0",
      "_model_name": "ProgressStyleModel",
      "_view_count": null,
      "_view_module": "@jupyter-widgets/base",
      "_view_module_version": "1.2.0",
      "_view_name": "StyleView",
      "bar_color": null,
      "description_width": "initial"
     }
    },
    "6d82f9fa083542b8bf48462231348485": {
     "model_module": "@jupyter-widgets/base",
     "model_name": "LayoutModel",
     "state": {
      "_model_module": "@jupyter-widgets/base",
      "_model_module_version": "1.2.0",
      "_model_name": "LayoutModel",
      "_view_count": null,
      "_view_module": "@jupyter-widgets/base",
      "_view_module_version": "1.2.0",
      "_view_name": "LayoutView",
      "align_content": null,
      "align_items": null,
      "align_self": null,
      "border": null,
      "bottom": null,
      "display": null,
      "flex": null,
      "flex_flow": null,
      "grid_area": null,
      "grid_auto_columns": null,
      "grid_auto_flow": null,
      "grid_auto_rows": null,
      "grid_column": null,
      "grid_gap": null,
      "grid_row": null,
      "grid_template_areas": null,
      "grid_template_columns": null,
      "grid_template_rows": null,
      "height": null,
      "justify_content": null,
      "justify_items": null,
      "left": null,
      "margin": null,
      "max_height": null,
      "max_width": null,
      "min_height": null,
      "min_width": null,
      "object_fit": null,
      "object_position": null,
      "order": null,
      "overflow": null,
      "overflow_x": null,
      "overflow_y": null,
      "padding": null,
      "right": null,
      "top": null,
      "visibility": null,
      "width": null
     }
    },
    "72a3b7b99705474a87633fd7d9ab1f39": {
     "model_module": "@jupyter-widgets/controls",
     "model_name": "DescriptionStyleModel",
     "state": {
      "_model_module": "@jupyter-widgets/controls",
      "_model_module_version": "1.5.0",
      "_model_name": "DescriptionStyleModel",
      "_view_count": null,
      "_view_module": "@jupyter-widgets/base",
      "_view_module_version": "1.2.0",
      "_view_name": "StyleView",
      "description_width": ""
     }
    },
    "73acdaefc7c74647a4d58826f78b96bb": {
     "model_module": "@jupyter-widgets/controls",
     "model_name": "HTMLModel",
     "state": {
      "_dom_classes": [],
      "_model_module": "@jupyter-widgets/controls",
      "_model_module_version": "1.5.0",
      "_model_name": "HTMLModel",
      "_view_count": null,
      "_view_module": "@jupyter-widgets/controls",
      "_view_module_version": "1.5.0",
      "_view_name": "HTMLView",
      "description": "",
      "description_tooltip": null,
      "layout": "IPY_MODEL_c5db30c2ee9c4ec593a10373c729d9ed",
      "placeholder": "​",
      "style": "IPY_MODEL_72a3b7b99705474a87633fd7d9ab1f39",
      "value": " 433/433 [00:06&lt;00:00, 62.3B/s]"
     }
    },
    "76501fe001cf4a2d94f57793223b8321": {
     "model_module": "@jupyter-widgets/base",
     "model_name": "LayoutModel",
     "state": {
      "_model_module": "@jupyter-widgets/base",
      "_model_module_version": "1.2.0",
      "_model_name": "LayoutModel",
      "_view_count": null,
      "_view_module": "@jupyter-widgets/base",
      "_view_module_version": "1.2.0",
      "_view_name": "LayoutView",
      "align_content": null,
      "align_items": null,
      "align_self": null,
      "border": null,
      "bottom": null,
      "display": null,
      "flex": null,
      "flex_flow": null,
      "grid_area": null,
      "grid_auto_columns": null,
      "grid_auto_flow": null,
      "grid_auto_rows": null,
      "grid_column": null,
      "grid_gap": null,
      "grid_row": null,
      "grid_template_areas": null,
      "grid_template_columns": null,
      "grid_template_rows": null,
      "height": null,
      "justify_content": null,
      "justify_items": null,
      "left": null,
      "margin": null,
      "max_height": null,
      "max_width": null,
      "min_height": null,
      "min_width": null,
      "object_fit": null,
      "object_position": null,
      "order": null,
      "overflow": null,
      "overflow_x": null,
      "overflow_y": null,
      "padding": null,
      "right": null,
      "top": null,
      "visibility": null,
      "width": null
     }
    },
    "8593a1c67ae64db9b394fc452db66cb4": {
     "model_module": "@jupyter-widgets/controls",
     "model_name": "DescriptionStyleModel",
     "state": {
      "_model_module": "@jupyter-widgets/controls",
      "_model_module_version": "1.5.0",
      "_model_name": "DescriptionStyleModel",
      "_view_count": null,
      "_view_module": "@jupyter-widgets/base",
      "_view_module_version": "1.2.0",
      "_view_name": "StyleView",
      "description_width": ""
     }
    },
    "a5b548bbfb7b4c54adf51fa6b2d14018": {
     "model_module": "@jupyter-widgets/base",
     "model_name": "LayoutModel",
     "state": {
      "_model_module": "@jupyter-widgets/base",
      "_model_module_version": "1.2.0",
      "_model_name": "LayoutModel",
      "_view_count": null,
      "_view_module": "@jupyter-widgets/base",
      "_view_module_version": "1.2.0",
      "_view_name": "LayoutView",
      "align_content": null,
      "align_items": null,
      "align_self": null,
      "border": null,
      "bottom": null,
      "display": null,
      "flex": null,
      "flex_flow": null,
      "grid_area": null,
      "grid_auto_columns": null,
      "grid_auto_flow": null,
      "grid_auto_rows": null,
      "grid_column": null,
      "grid_gap": null,
      "grid_row": null,
      "grid_template_areas": null,
      "grid_template_columns": null,
      "grid_template_rows": null,
      "height": null,
      "justify_content": null,
      "justify_items": null,
      "left": null,
      "margin": null,
      "max_height": null,
      "max_width": null,
      "min_height": null,
      "min_width": null,
      "object_fit": null,
      "object_position": null,
      "order": null,
      "overflow": null,
      "overflow_x": null,
      "overflow_y": null,
      "padding": null,
      "right": null,
      "top": null,
      "visibility": null,
      "width": null
     }
    },
    "c20b15af035b4b4fb97a58ce12adddcc": {
     "model_module": "@jupyter-widgets/controls",
     "model_name": "HBoxModel",
     "state": {
      "_dom_classes": [],
      "_model_module": "@jupyter-widgets/controls",
      "_model_module_version": "1.5.0",
      "_model_name": "HBoxModel",
      "_view_count": null,
      "_view_module": "@jupyter-widgets/controls",
      "_view_module_version": "1.5.0",
      "_view_name": "HBoxView",
      "box_style": "",
      "children": [
       "IPY_MODEL_1d35f68ff0b1444f9ae1fa93c89aaae2",
       "IPY_MODEL_23d9ece5f88a4908bfd158fcdd343663"
      ],
      "layout": "IPY_MODEL_6d82f9fa083542b8bf48462231348485"
     }
    },
    "c5db30c2ee9c4ec593a10373c729d9ed": {
     "model_module": "@jupyter-widgets/base",
     "model_name": "LayoutModel",
     "state": {
      "_model_module": "@jupyter-widgets/base",
      "_model_module_version": "1.2.0",
      "_model_name": "LayoutModel",
      "_view_count": null,
      "_view_module": "@jupyter-widgets/base",
      "_view_module_version": "1.2.0",
      "_view_name": "LayoutView",
      "align_content": null,
      "align_items": null,
      "align_self": null,
      "border": null,
      "bottom": null,
      "display": null,
      "flex": null,
      "flex_flow": null,
      "grid_area": null,
      "grid_auto_columns": null,
      "grid_auto_flow": null,
      "grid_auto_rows": null,
      "grid_column": null,
      "grid_gap": null,
      "grid_row": null,
      "grid_template_areas": null,
      "grid_template_columns": null,
      "grid_template_rows": null,
      "height": null,
      "justify_content": null,
      "justify_items": null,
      "left": null,
      "margin": null,
      "max_height": null,
      "max_width": null,
      "min_height": null,
      "min_width": null,
      "object_fit": null,
      "object_position": null,
      "order": null,
      "overflow": null,
      "overflow_x": null,
      "overflow_y": null,
      "padding": null,
      "right": null,
      "top": null,
      "visibility": null,
      "width": null
     }
    },
    "de4bafcc56594327a2c1eddfb1233ec5": {
     "model_module": "@jupyter-widgets/base",
     "model_name": "LayoutModel",
     "state": {
      "_model_module": "@jupyter-widgets/base",
      "_model_module_version": "1.2.0",
      "_model_name": "LayoutModel",
      "_view_count": null,
      "_view_module": "@jupyter-widgets/base",
      "_view_module_version": "1.2.0",
      "_view_name": "LayoutView",
      "align_content": null,
      "align_items": null,
      "align_self": null,
      "border": null,
      "bottom": null,
      "display": null,
      "flex": null,
      "flex_flow": null,
      "grid_area": null,
      "grid_auto_columns": null,
      "grid_auto_flow": null,
      "grid_auto_rows": null,
      "grid_column": null,
      "grid_gap": null,
      "grid_row": null,
      "grid_template_areas": null,
      "grid_template_columns": null,
      "grid_template_rows": null,
      "height": null,
      "justify_content": null,
      "justify_items": null,
      "left": null,
      "margin": null,
      "max_height": null,
      "max_width": null,
      "min_height": null,
      "min_width": null,
      "object_fit": null,
      "object_position": null,
      "order": null,
      "overflow": null,
      "overflow_x": null,
      "overflow_y": null,
      "padding": null,
      "right": null,
      "top": null,
      "visibility": null,
      "width": null
     }
    }
   }
  }
 },
 "nbformat": 4,
 "nbformat_minor": 4
}
